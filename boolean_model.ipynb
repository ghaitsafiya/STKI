{
  "nbformat": 4,
  "nbformat_minor": 0,
  "metadata": {
    "colab": {
      "provenance": [],
      "authorship_tag": "ABX9TyOx1aI8MHesOL561R9FLh9q",
      "include_colab_link": true
    },
    "kernelspec": {
      "name": "python3",
      "display_name": "Python 3"
    },
    "language_info": {
      "name": "python"
    }
  },
  "cells": [
    {
      "cell_type": "markdown",
      "metadata": {
        "id": "view-in-github",
        "colab_type": "text"
      },
      "source": [
        "<a href=\"https://colab.research.google.com/github/ghaitsafiya/STKI/blob/main/boolean_model.ipynb\" target=\"_parent\"><img src=\"https://colab.research.google.com/assets/colab-badge.svg\" alt=\"Open In Colab\"/></a>"
      ]
    },
    {
      "cell_type": "markdown",
      "source": [
        "### Eksperimen Information Retrieval: Boolean Model\n",
        "Eksperimen ini bertujuan untuk memahami cara kerja Boolean Model pada sistem temu kembali informasi (Information Retrieval) menggunakan kumpulan teks dari beberapa dokumen.\n",
        "\n",
        "Boolean Model memungkinkan pengguna mencari dokumen dengan kombinasi logika seperti AND, OR, dan NOT."
      ],
      "metadata": {
        "id": "YmDtO-XN3_7P"
      }
    },
    {
      "cell_type": "code",
      "execution_count": 2,
      "metadata": {
        "id": "4HYb8-uA3aTL"
      },
      "outputs": [],
      "source": [
        "from zipfile import ZipFile\n",
        "\n",
        "with ZipFile(\"minggu3.zip\", 'r') as zip_ref:\n",
        "    zip_ref.extractall(\"data\")"
      ]
    },
    {
      "cell_type": "code",
      "source": [
        "import os\n",
        "import re\n",
        "from collections import defaultdict"
      ],
      "metadata": {
        "id": "xGTTgeJE4HrE"
      },
      "execution_count": 3,
      "outputs": []
    },
    {
      "cell_type": "markdown",
      "source": [
        "## Persiapan Data Set\n",
        "Pada tahap ini, dokumen teks dikumpulkan aga bisa diproses dalam sistem pencarian."
      ],
      "metadata": {
        "id": "59Il6oIe4jLm"
      }
    },
    {
      "cell_type": "code",
      "source": [
        "DATA_DIR = \"data\"  # folder berisi file teks\n",
        "docs = {}\n",
        "\n",
        "for fname in os.listdir(DATA_DIR):\n",
        "    if fname.endswith(\".txt\"):\n",
        "        with open(os.path.join(DATA_DIR, fname), encoding=\"utf-8\") as f:\n",
        "            docs[fname] = f.read()"
      ],
      "metadata": {
        "id": "GdYPmyi93-11"
      },
      "execution_count": 4,
      "outputs": []
    },
    {
      "cell_type": "markdown",
      "source": [
        "## Preprocessing Teks\n",
        "\n",
        "\n",
        "*  Mengubah huruf menjadi kecil (lowercase).\n",
        "*   Menghapus tanda baca dan karakter selain huruf/angka\n",
        "*   Memecah teks menjadi token (kata-kata).\n",
        "\n"
      ],
      "metadata": {
        "id": "TB2CUJoe5DEu"
      }
    },
    {
      "cell_type": "code",
      "source": [
        "def tokenize(text):\n",
        "    text = text.lower()\n",
        "    text = re.sub(r'[^a-z0-9\\s]', ' ', text)\n",
        "    return text.split()"
      ],
      "metadata": {
        "id": "BL-bh9Iv4NFf"
      },
      "execution_count": 5,
      "outputs": []
    },
    {
      "cell_type": "markdown",
      "source": [
        "## Membangun Inverted Index\n",
        "Membuat struktur data dasar untuk pencarian cepat berdasarkan kata kunci."
      ],
      "metadata": {
        "id": "BrvPHbBc5dfG"
      }
    },
    {
      "cell_type": "code",
      "source": [
        "inverted_index = defaultdict(set) #menggunakan set agar nama dokumen tidak duplikat\n",
        "\n",
        "for fname, content in docs.items():\n",
        "    terms = set(tokenize(content))\n",
        "    for term in terms:\n",
        "        inverted_index[term].add(fname)"
      ],
      "metadata": {
        "id": "Fpys7RNv4P5u"
      },
      "execution_count": 6,
      "outputs": []
    },
    {
      "cell_type": "markdown",
      "source": [
        "## Implementasi Boolean Query\n",
        "Adanya implementasi ini memungkinkan pengguna melakukan pencarian logika sederhana pada kumpulan dokumen.\n",
        "Mendukung tiga operator logika utama:\n",
        "*   AND: hanya dokumen yang mengandung semua kata.\n",
        "*   OR: dokumen yang mengandung salah satu kata.\n",
        "*   NOT: mengeluarkan dokumen yang mengandung kata tersebut.\n",
        "\n",
        "Query seperti \"modi AND obama\" akan mencari dokumen yang berisi kedua kata."
      ],
      "metadata": {
        "id": "GB896A_j6RkS"
      }
    },
    {
      "cell_type": "code",
      "source": [
        "def boolean_query(query):\n",
        "    all_docs = set(docs.keys())\n",
        "    tokens = query.lower().split()\n",
        "    result = set()\n",
        "    op = None\n",
        "\n",
        "    for token in tokens:\n",
        "        if token == \"and\":\n",
        "            op = \"and\"\n",
        "        elif token == \"or\":\n",
        "            op = \"or\"\n",
        "        elif token == \"not\":\n",
        "            op = \"not\"\n",
        "        else:\n",
        "            term_docs = inverted_index.get(token, set())\n",
        "\n",
        "            if op == \"not\":\n",
        "                term_docs = all_docs - term_docs\n",
        "                op = None\n",
        "\n",
        "            if not result:\n",
        "                result = term_docs\n",
        "            elif op == \"and\":\n",
        "                result = result & term_docs\n",
        "            elif op == \"or\":\n",
        "                result = result | term_docs\n",
        "            op = None\n",
        "\n",
        "    return result"
      ],
      "metadata": {
        "id": "Yw1Bmk8v4T3O"
      },
      "execution_count": 7,
      "outputs": []
    },
    {
      "cell_type": "markdown",
      "source": [
        "## Uji Coba Query\n",
        "Mengukur apakah sistem Boolean Model berhasil menemukan dokumen sesuai kombinasi kata kunci."
      ],
      "metadata": {
        "id": "X_Ur0fWm68u5"
      }
    },
    {
      "cell_type": "code",
      "source": [
        "queries = [\n",
        "    \"narendra AND modi\",\n",
        "    \"barack AND obama\",\n",
        "    \"queen AND elizabeth\",\n",
        "    \"badminton AND NOT baseball\",\n",
        "    \"modi OR obama\"\n",
        "]\n",
        "\n",
        "for q in queries:\n",
        "    print(f\"Query: {q}\")\n",
        "    print(\"Dokumen hasil:\", boolean_query(q))\n",
        "    print(\"-\"*40)"
      ],
      "metadata": {
        "colab": {
          "base_uri": "https://localhost:8080/"
        },
        "id": "Q9HBBuJ94Wlg",
        "outputId": "fb62594b-f77c-4a72-fd7b-0677dc00b7bb"
      },
      "execution_count": 8,
      "outputs": [
        {
          "output_type": "stream",
          "name": "stdout",
          "text": [
            "Query: narendra AND modi\n",
            "Dokumen hasil: set()\n",
            "----------------------------------------\n",
            "Query: barack AND obama\n",
            "Dokumen hasil: set()\n",
            "----------------------------------------\n",
            "Query: queen AND elizabeth\n",
            "Dokumen hasil: set()\n",
            "----------------------------------------\n",
            "Query: badminton AND NOT baseball\n",
            "Dokumen hasil: set()\n",
            "----------------------------------------\n",
            "Query: modi OR obama\n",
            "Dokumen hasil: set()\n",
            "----------------------------------------\n"
          ]
        }
      ]
    }
  ]
}